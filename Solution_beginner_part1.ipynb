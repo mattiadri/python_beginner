{
 "cells": [
  {
   "cell_type": "markdown",
   "metadata": {},
   "source": [
    "**1.** Write a Python program to find the first repeated character in a given string"
   ]
  },
  {
   "cell_type": "code",
   "execution_count": 1,
   "metadata": {},
   "outputs": [
    {
     "name": "stdout",
     "output_type": "stream",
     "text": [
      "c\n"
     ]
    }
   ],
   "source": [
    "mystr = \"abcdcabd\"\n",
    "\n",
    "for i in range(len(mystr)):\n",
    "    if mystr[:i+1].count(mystr[i]) > 1:\n",
    "        print(mystr[i])\n",
    "        break"
   ]
  },
  {
   "cell_type": "markdown",
   "metadata": {},
   "source": [
    "**2.** Write a Python program to find smallest and largest word in a given string"
   ]
  },
  {
   "cell_type": "code",
   "execution_count": 2,
   "metadata": {},
   "outputs": [
    {
     "name": "stdout",
     "output_type": "stream",
     "text": [
      "a\n",
      "Algorithm.\n"
     ]
    }
   ],
   "source": [
    "str1 = \"Write a Java program to sort an array of given integers using Quick sort Algorithm.\";  \n",
    "\n",
    "smallest_word = \"\"\n",
    "largest_word = \"\"\n",
    "\n",
    "for w in str1.split():\n",
    "    \n",
    "    if smallest_word==\"\":\n",
    "        smallest_word = w\n",
    "    elif len(w) < len(smallest_word):\n",
    "        smallest_word = w\n",
    "        \n",
    "    if largest_word==\"\":\n",
    "        largest_word = w\n",
    "    elif len(w) > len(largest_word):\n",
    "        largest_word = w\n",
    "        \n",
    "print(smallest_word)\n",
    "print(largest_word)"
   ]
  },
  {
   "cell_type": "markdown",
   "metadata": {},
   "source": [
    "**3.** Write a Python program to remove duplicates from a list."
   ]
  },
  {
   "cell_type": "code",
   "execution_count": 3,
   "metadata": {},
   "outputs": [
    {
     "data": {
      "text/plain": [
       "[40, 10, 80, 50, 20, 60, 30]"
      ]
     },
     "execution_count": 3,
     "metadata": {},
     "output_type": "execute_result"
    }
   ],
   "source": [
    "a = [10,20,30,20,10,50,60,40,80,50,40]\n",
    "b = set(a)\n",
    "list(b)"
   ]
  },
  {
   "cell_type": "markdown",
   "metadata": {},
   "source": [
    "**4.** Write a Python program to find the second smallest number in a list."
   ]
  },
  {
   "cell_type": "code",
   "execution_count": 4,
   "metadata": {},
   "outputs": [
    {
     "data": {
      "text/plain": [
       "-2"
      ]
     },
     "execution_count": 4,
     "metadata": {},
     "output_type": "execute_result"
    }
   ],
   "source": [
    "ex_list = [1, 2, -2, 0, -2, -8]\n",
    "#ex_list = [1, 1, 0, 0, 2, -2, -2]\n",
    "#ex_list = [1, 1, 1, 0, 0, 0, 2, -2, -2]\n",
    "sorted(set(ex_list))[1]"
   ]
  },
  {
   "cell_type": "markdown",
   "metadata": {},
   "source": [
    "**5.** Write a Python program to count the number of strings where the string length is 3 or more and the first and last character are same from a given list of strings."
   ]
  },
  {
   "cell_type": "code",
   "execution_count": 5,
   "metadata": {},
   "outputs": [
    {
     "name": "stdout",
     "output_type": "stream",
     "text": [
      "2\n"
     ]
    }
   ],
   "source": [
    "words = ['bb', 'xyz', 'aba', '1221']\n",
    "\n",
    "ctr = 0\n",
    "\n",
    "for word in words:\n",
    "    if len(word) > 2 and word[0] == word[-1]:\n",
    "        ctr += 1\n",
    "print(ctr)"
   ]
  },
  {
   "cell_type": "markdown",
   "metadata": {},
   "source": [
    "**6.** Write a Python program to find the list of words that are longer than n from a given list of words."
   ]
  },
  {
   "cell_type": "code",
   "execution_count": 6,
   "metadata": {},
   "outputs": [
    {
     "name": "stdout",
     "output_type": "stream",
     "text": [
      "['quick', 'brown', 'jumps', 'over', 'lazy']\n"
     ]
    }
   ],
   "source": [
    "n=3\n",
    "text = \"The quick brown fox jumps over the lazy dog\"\n",
    "\n",
    "word_len = []\n",
    "txt = text.split(\" \")\n",
    "for x in txt:\n",
    "    if len(x) > n:\n",
    "        word_len.append(x)\n",
    "        \n",
    "print(word_len)"
   ]
  },
  {
   "cell_type": "markdown",
   "metadata": {},
   "source": [
    "**7.** Write a Python program to flatten a shallow list"
   ]
  },
  {
   "cell_type": "code",
   "execution_count": 7,
   "metadata": {},
   "outputs": [
    {
     "name": "stdout",
     "output_type": "stream",
     "text": [
      "True\n"
     ]
    }
   ],
   "source": [
    "list1 = [1,2,3,4,5]\n",
    "list2 = [5,6,7,8,9]\n",
    "\n",
    "result = False\n",
    "for x in list1:\n",
    "    for y in list2:\n",
    "        if x == y:\n",
    "            result = True\n",
    "            \n",
    "print(result)"
   ]
  },
  {
   "cell_type": "markdown",
   "metadata": {},
   "source": [
    "**8.** Write a Python program to check whether two lists are circularly identical"
   ]
  },
  {
   "cell_type": "code",
   "execution_count": 8,
   "metadata": {},
   "outputs": [
    {
     "name": "stdout",
     "output_type": "stream",
     "text": [
      "[10, 0, 0, 10, 10] False\n",
      "[0, 0, 10, 10, 10] False\n",
      "[0, 10, 10, 10, 0] False\n",
      "[10, 10, 10, 0, 0] True\n"
     ]
    }
   ],
   "source": [
    "list1 = [10, 10, 0, 0, 10]\n",
    "list2 = [10, 10, 10, 0, 0]\n",
    "\n",
    "for i in range(len(list1)):\n",
    "    tmp_list = []\n",
    "    for i in range(1,len(list1)):\n",
    "        tmp_list.append(list1[i])\n",
    "    tmp_list.append(list1[0])\n",
    "    chk = tmp_list==list2\n",
    "    print(tmp_list,chk)\n",
    "    if chk==True:\n",
    "        break\n",
    "    list1 = tmp_list"
   ]
  },
  {
   "cell_type": "markdown",
   "metadata": {},
   "source": [
    "**9.** Write a Python program to get the frequency of the elements in a list."
   ]
  },
  {
   "cell_type": "code",
   "execution_count": 9,
   "metadata": {},
   "outputs": [
    {
     "name": "stdout",
     "output_type": "stream",
     "text": [
      "{10: 4, 20: 4, 40: 2, 50: 2, 30: 1}\n"
     ]
    }
   ],
   "source": [
    "my_list = [10,10,10,10,20,20,20,20,40,40,50,50,30]\n",
    "freq = {}\n",
    "\n",
    "for i in my_list:\n",
    "    if i not in freq.keys():\n",
    "        freq[i] = 1\n",
    "    else:\n",
    "        freq[i] = freq[i] + 1\n",
    "        \n",
    "print(freq)"
   ]
  },
  {
   "cell_type": "markdown",
   "metadata": {},
   "source": [
    "**10.** Write a Python program to generate all sublists of a list."
   ]
  },
  {
   "cell_type": "code",
   "execution_count": 10,
   "metadata": {},
   "outputs": [
    {
     "name": "stdout",
     "output_type": "stream",
     "text": [
      "[[], [1], [1, 2], [1, 2, 3], [1, 2, 3, 4], [1, 2, 3, 4, 5], [2], [2, 3], [2, 3, 4], [2, 3, 4, 5], [3], [3, 4], [3, 4, 5], [4], [4, 5], [5]]\n"
     ]
    }
   ],
   "source": [
    "list1 = [1, 2, 3, 4, 5] \n",
    "\n",
    "# store all the sublists  \n",
    "sublist = [[]] \n",
    "\n",
    "# first loop  \n",
    "for i in range(len(list1) + 1): \n",
    "\n",
    "    # second loop  \n",
    "    for j in range(i + 1, len(list1) + 1): \n",
    "\n",
    "        # slice the subarray  \n",
    "        sub = list1[i:j] \n",
    "        sublist.append(sub) \n",
    "            \n",
    "print(sublist) "
   ]
  },
  {
   "cell_type": "markdown",
   "metadata": {},
   "source": [
    "**11.** Write a Python program to create and display all combinations of letters, selecting each letter from a different key in a dictionary."
   ]
  },
  {
   "cell_type": "code",
   "execution_count": 11,
   "metadata": {},
   "outputs": [
    {
     "name": "stdout",
     "output_type": "stream",
     "text": [
      "a c\n",
      "a d\n",
      "b c\n",
      "b d\n",
      "c a\n",
      "c b\n",
      "d a\n",
      "d b\n"
     ]
    }
   ],
   "source": [
    "d ={'1':['a','b'], '2':['c','d']}\n",
    "\n",
    "for k,v in d.items():\n",
    "    for kk,vv in d.items():\n",
    "        if k!=kk:\n",
    "            for a in v:\n",
    "                for b in vv:\n",
    "                    print(a,b)\n"
   ]
  }
 ],
 "metadata": {
  "kernelspec": {
   "display_name": "Python 3",
   "language": "python",
   "name": "python3"
  },
  "language_info": {
   "codemirror_mode": {
    "name": "ipython",
    "version": 3
   },
   "file_extension": ".py",
   "mimetype": "text/x-python",
   "name": "python",
   "nbconvert_exporter": "python",
   "pygments_lexer": "ipython3",
   "version": "3.8.5"
  }
 },
 "nbformat": 4,
 "nbformat_minor": 4
}
